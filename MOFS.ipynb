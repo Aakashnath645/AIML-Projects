{
  "nbformat": 4,
  "nbformat_minor": 0,
  "metadata": {
    "colab": {
      "provenance": []
    },
    "kernelspec": {
      "name": "python3",
      "display_name": "Python 3"
    },
    "language_info": {
      "name": "python"
    }
  },
  "cells": [
    {
      "cell_type": "code",
      "execution_count": 6,
      "metadata": {
        "colab": {
          "base_uri": "https://localhost:8080/"
        },
        "id": "vd0HD7dSO5qq",
        "outputId": "37425078-7d17-4b50-a07c-ef55c2d90e38"
      },
      "outputs": [
        {
          "output_type": "stream",
          "name": "stdout",
          "text": [
            "Linear Regression - Average MSE for output_col1: 90234720.63, Average MSE for output_col2: 248895075888787259392.00\n",
            "Decision Tree - Average MSE for output_col1: 269421196.71, Average MSE for output_col2: 496595730507967627264.00\n",
            "Random Forest - Average MSE for output_col1: 211976567.82, Average MSE for output_col2: 396557864013762002944.00\n"
          ]
        }
      ],
      "source": [
        "import pandas as pd\n",
        "from sklearn.model_selection import train_test_split, cross_val_score, KFold\n",
        "from sklearn.linear_model import LinearRegression\n",
        "from sklearn.tree import DecisionTreeRegressor\n",
        "from sklearn.ensemble import RandomForestRegressor\n",
        "\n",
        "\n",
        "data = pd.read_csv('MOFS.csv')\n",
        "\n",
        "\n",
        "data = data.dropna()\n",
        "\n",
        "input_columns = ['LCD', 'PLD', 'SA', 'Void Fraction']\n",
        "output_columns = ['Kh CO2/Kh H2O', 'Kh CO2/Kh N2']\n",
        "\n",
        "X = data[input_columns]\n",
        "y = data[output_columns]\n",
        "models = [\n",
        "    ('Linear Regression', LinearRegression()),\n",
        "    ('Decision Tree', DecisionTreeRegressor()),\n",
        "    ('Random Forest', RandomForestRegressor())\n",
        "]\n",
        "\n",
        "num_folds = 5\n",
        "kf = KFold(n_splits=num_folds, shuffle=True, random_state=42)\n",
        "\n",
        "for model_name, model in models:\n",
        "    mse_scores_output1 = -cross_val_score(model, X, y['Kh CO2/Kh H2O'], cv=kf, scoring='neg_mean_squared_error')\n",
        "    mse_scores_output2 = -cross_val_score(model, X, y['Kh CO2/Kh N2'], cv=kf, scoring='neg_mean_squared_error')\n",
        "\n",
        "    avg_mse_output1 = mse_scores_output1.mean()\n",
        "    avg_mse_output2 = mse_scores_output2.mean()\n",
        "\n",
        "    print(f'{model_name} - Average MSE for output_col1: {avg_mse_output1:.2f}, Average MSE for output_col2: {avg_mse_output2:.2f}')\n",
        "\n",
        "\n"
      ]
    }
  ]
}