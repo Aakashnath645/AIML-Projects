{
  "nbformat": 4,
  "nbformat_minor": 0,
  "metadata": {
    "colab": {
      "provenance": [],
      "authorship_tag": "ABX9TyM2eqvZ9GxFpW+tsjcTyxk0",
      "include_colab_link": true
    },
    "kernelspec": {
      "name": "python3",
      "display_name": "Python 3"
    },
    "language_info": {
      "name": "python"
    }
  },
  "cells": [
    {
      "cell_type": "markdown",
      "metadata": {
        "id": "view-in-github",
        "colab_type": "text"
      },
      "source": [
        "<a href=\"https://colab.research.google.com/github/Aakashnath645/AIML-Projects/blob/main/Input_PredictionMOFS.ipynb\" target=\"_parent\"><img src=\"https://colab.research.google.com/assets/colab-badge.svg\" alt=\"Open In Colab\"/></a>"
      ]
    },
    {
      "cell_type": "code",
      "execution_count": null,
      "metadata": {
        "colab": {
          "base_uri": "https://localhost:8080/"
        },
        "id": "1SGbrVxpEQin",
        "outputId": "5e8afc38-ae15-4dad-b992-9cf3bf5c74b5"
      },
      "outputs": [
        {
          "output_type": "stream",
          "name": "stdout",
          "text": [
            "The best model is: Lasso Regression\n",
            "Mean Squared Error on Test Data: 2.1817941484985152e+18\n"
          ]
        }
      ],
      "source": [
        "import numpy as np\n",
        "import pandas as pd\n",
        "from sklearn.model_selection import train_test_split\n",
        "from sklearn.linear_model import LinearRegression, Ridge, Lasso\n",
        "from sklearn.tree import DecisionTreeRegressor\n",
        "from sklearn.ensemble import RandomForestRegressor\n",
        "from sklearn.metrics import mean_squared_error\n",
        "from sklearn.model_selection import cross_val_score\n",
        "\n",
        "\n",
        "data = pd.read_csv('MOFS.csv')\n",
        "\n",
        "X = data[['Kh CO2/Kh H2O']]\n",
        "y = data['Kh CO2/Kh N2']\n",
        "\n",
        "\n",
        "X_train, X_test, y_train, y_test = train_test_split(X, y, test_size=0.2, random_state=42)\n",
        "\n",
        "\n",
        "models = {\n",
        "    'Linear Regression': LinearRegression(),\n",
        "    'Ridge Regression': Ridge(),\n",
        "    'Lasso Regression': Lasso(),\n",
        "    'Decision Tree': DecisionTreeRegressor(),\n",
        "    'Random Forest': RandomForestRegressor()\n",
        "}\n",
        "\n",
        "\n",
        "best_model = None\n",
        "best_score = float('-inf')\n",
        "\n",
        "for model_name, model in models.items():\n",
        "    scores = cross_val_score(model, X_train, y_train, cv=5, scoring='neg_mean_squared_error')\n",
        "    mean_score = np.mean(scores)\n",
        "    if mean_score > best_score:\n",
        "        best_score = mean_score\n",
        "        best_model = model_name\n",
        "\n",
        "print(f\"The best model is: {best_model}\")\n",
        "\n",
        "best_model = models[best_model]\n",
        "best_model.fit(X_train, y_train)\n",
        "\n",
        "\n",
        "y_pred = best_model.predict(X_test)\n",
        "mse = mean_squared_error(y_test, y_pred)\n",
        "\n",
        "print(f\"Mean Squared Error on Test Data: {mse}\")\n"
      ]
    }
  ]
}